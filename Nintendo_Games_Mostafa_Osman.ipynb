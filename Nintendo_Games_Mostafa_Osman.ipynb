{
 "cells": [
  {
   "cell_type": "code",
   "execution_count": 1,
   "id": "2f6416c3",
   "metadata": {},
   "outputs": [],
   "source": [
    "import pandas as pd\n",
    "import numpy as np\n",
    "import matplotlib.pyplot as plt\n",
    "import seaborn as sns"
   ]
  },
  {
   "cell_type": "code",
   "execution_count": 2,
   "id": "e67b6524",
   "metadata": {},
   "outputs": [],
   "source": [
    "df= pd.read_csv('List-of-best-selling-videogames.csv')"
   ]
  },
  {
   "cell_type": "code",
   "execution_count": 3,
   "id": "267731bd",
   "metadata": {},
   "outputs": [
    {
     "data": {
      "text/html": [
       "<div>\n",
       "<style scoped>\n",
       "    .dataframe tbody tr th:only-of-type {\n",
       "        vertical-align: middle;\n",
       "    }\n",
       "\n",
       "    .dataframe tbody tr th {\n",
       "        vertical-align: top;\n",
       "    }\n",
       "\n",
       "    .dataframe thead th {\n",
       "        text-align: right;\n",
       "    }\n",
       "</style>\n",
       "<table border=\"1\" class=\"dataframe\">\n",
       "  <thead>\n",
       "    <tr style=\"text-align: right;\">\n",
       "      <th></th>\n",
       "      <th>Game</th>\n",
       "      <th>Developer</th>\n",
       "      <th>Publisher</th>\n",
       "      <th>Release date</th>\n",
       "      <th>Sales</th>\n",
       "      <th>Platform</th>\n",
       "      <th>Genre</th>\n",
       "      <th>Unnamed: 7</th>\n",
       "      <th>Unnamed: 8</th>\n",
       "      <th>Unnamed: 9</th>\n",
       "      <th>Unnamed: 10</th>\n",
       "      <th>Unnamed: 11</th>\n",
       "      <th>Unnamed: 12</th>\n",
       "      <th>Unnamed: 13</th>\n",
       "    </tr>\n",
       "  </thead>\n",
       "  <tbody>\n",
       "    <tr>\n",
       "      <th>425</th>\n",
       "      <td>Fitness Boxing</td>\n",
       "      <td>Imagineer</td>\n",
       "      <td>JP: Imagineer, NA/PAL: Nintendo</td>\n",
       "      <td>December 20, 2018</td>\n",
       "      <td>1000000</td>\n",
       "      <td>Nintendo Switch</td>\n",
       "      <td>Exergame, rhythm</td>\n",
       "      <td>NaN</td>\n",
       "      <td>NaN</td>\n",
       "      <td>NaN</td>\n",
       "      <td>NaN</td>\n",
       "      <td>NaN</td>\n",
       "      <td>NaN</td>\n",
       "      <td>NaN</td>\n",
       "    </tr>\n",
       "    <tr>\n",
       "      <th>426</th>\n",
       "      <td>Fitness Boxing 2: Rhythm and Exercise</td>\n",
       "      <td>Imagineer</td>\n",
       "      <td>JP: Imagineer, NA/PAL: Nintendo</td>\n",
       "      <td>December 4, 2020</td>\n",
       "      <td>1000000</td>\n",
       "      <td>Nintendo Switch</td>\n",
       "      <td>Exergame, rhythm</td>\n",
       "      <td>NaN</td>\n",
       "      <td>NaN</td>\n",
       "      <td>NaN</td>\n",
       "      <td>NaN</td>\n",
       "      <td>NaN</td>\n",
       "      <td>NaN</td>\n",
       "      <td>NaN</td>\n",
       "    </tr>\n",
       "    <tr>\n",
       "      <th>427</th>\n",
       "      <td>Shin Megami Tensei V</td>\n",
       "      <td>Atlus</td>\n",
       "      <td>JP: Atlus, NA: Sega, PAL: Nintendo</td>\n",
       "      <td>November 11, 2021</td>\n",
       "      <td>1000000</td>\n",
       "      <td>Nintendo Switch</td>\n",
       "      <td>Role-playing</td>\n",
       "      <td>NaN</td>\n",
       "      <td>NaN</td>\n",
       "      <td>NaN</td>\n",
       "      <td>NaN</td>\n",
       "      <td>NaN</td>\n",
       "      <td>NaN</td>\n",
       "      <td>NaN</td>\n",
       "    </tr>\n",
       "    <tr>\n",
       "      <th>428</th>\n",
       "      <td>Story of Seasons: Pioneers of Olive Town</td>\n",
       "      <td>Marvelous</td>\n",
       "      <td>Xseed Games</td>\n",
       "      <td>February 25, 2021</td>\n",
       "      <td>1000000</td>\n",
       "      <td>Nintendo Switch</td>\n",
       "      <td>Simulation, role-playing</td>\n",
       "      <td>NaN</td>\n",
       "      <td>NaN</td>\n",
       "      <td>NaN</td>\n",
       "      <td>NaN</td>\n",
       "      <td>NaN</td>\n",
       "      <td>NaN</td>\n",
       "      <td>NaN</td>\n",
       "    </tr>\n",
       "    <tr>\n",
       "      <th>429</th>\n",
       "      <td>Thief Simulator</td>\n",
       "      <td>Noble Muffins</td>\n",
       "      <td>Forever Entertainment</td>\n",
       "      <td>May 19, 2019</td>\n",
       "      <td>1000000</td>\n",
       "      <td>Nintendo Switch</td>\n",
       "      <td>Stealth</td>\n",
       "      <td>NaN</td>\n",
       "      <td>NaN</td>\n",
       "      <td>NaN</td>\n",
       "      <td>NaN</td>\n",
       "      <td>NaN</td>\n",
       "      <td>NaN</td>\n",
       "      <td>NaN</td>\n",
       "    </tr>\n",
       "  </tbody>\n",
       "</table>\n",
       "</div>"
      ],
      "text/plain": [
       "                                         Game      Developer  \\\n",
       "425                            Fitness Boxing      Imagineer   \n",
       "426     Fitness Boxing 2: Rhythm and Exercise      Imagineer   \n",
       "427                      Shin Megami Tensei V          Atlus   \n",
       "428  Story of Seasons: Pioneers of Olive Town      Marvelous   \n",
       "429                           Thief Simulator  Noble Muffins   \n",
       "\n",
       "                              Publisher       Release date    Sales  \\\n",
       "425     JP: Imagineer, NA/PAL: Nintendo  December 20, 2018  1000000   \n",
       "426     JP: Imagineer, NA/PAL: Nintendo   December 4, 2020  1000000   \n",
       "427  JP: Atlus, NA: Sega, PAL: Nintendo  November 11, 2021  1000000   \n",
       "428                         Xseed Games  February 25, 2021  1000000   \n",
       "429               Forever Entertainment       May 19, 2019  1000000   \n",
       "\n",
       "            Platform                     Genre  Unnamed: 7  Unnamed: 8  \\\n",
       "425  Nintendo Switch          Exergame, rhythm         NaN         NaN   \n",
       "426  Nintendo Switch          Exergame, rhythm         NaN         NaN   \n",
       "427  Nintendo Switch              Role-playing         NaN         NaN   \n",
       "428  Nintendo Switch  Simulation, role-playing         NaN         NaN   \n",
       "429  Nintendo Switch                   Stealth         NaN         NaN   \n",
       "\n",
       "     Unnamed: 9  Unnamed: 10  Unnamed: 11  Unnamed: 12  Unnamed: 13  \n",
       "425         NaN          NaN          NaN          NaN          NaN  \n",
       "426         NaN          NaN          NaN          NaN          NaN  \n",
       "427         NaN          NaN          NaN          NaN          NaN  \n",
       "428         NaN          NaN          NaN          NaN          NaN  \n",
       "429         NaN          NaN          NaN          NaN          NaN  "
      ]
     },
     "execution_count": 3,
     "metadata": {},
     "output_type": "execute_result"
    }
   ],
   "source": [
    "df.tail()"
   ]
  },
  {
   "cell_type": "code",
   "execution_count": 4,
   "id": "29834702",
   "metadata": {},
   "outputs": [
    {
     "name": "stdout",
     "output_type": "stream",
     "text": [
      "<class 'pandas.core.frame.DataFrame'>\n",
      "RangeIndex: 430 entries, 0 to 429\n",
      "Data columns (total 14 columns):\n",
      " #   Column        Non-Null Count  Dtype  \n",
      "---  ------        --------------  -----  \n",
      " 0   Game          430 non-null    object \n",
      " 1   Developer     430 non-null    object \n",
      " 2   Publisher     430 non-null    object \n",
      " 3   Release date  430 non-null    object \n",
      " 4   Sales         430 non-null    int64  \n",
      " 5   Platform      430 non-null    object \n",
      " 6   Genre         293 non-null    object \n",
      " 7   Unnamed: 7    0 non-null      float64\n",
      " 8   Unnamed: 8    0 non-null      float64\n",
      " 9   Unnamed: 9    0 non-null      float64\n",
      " 10  Unnamed: 10   0 non-null      float64\n",
      " 11  Unnamed: 11   0 non-null      float64\n",
      " 12  Unnamed: 12   0 non-null      float64\n",
      " 13  Unnamed: 13   0 non-null      float64\n",
      "dtypes: float64(7), int64(1), object(6)\n",
      "memory usage: 47.2+ KB\n"
     ]
    }
   ],
   "source": [
    "df.info()"
   ]
  },
  {
   "cell_type": "code",
   "execution_count": 5,
   "id": "23c83c80",
   "metadata": {},
   "outputs": [],
   "source": [
    "df.drop(labels= ['Unnamed: 7','Unnamed: 8','Unnamed: 9','Unnamed: 10','Unnamed: 11','Unnamed: 12','Unnamed: 13'],axis=1,inplace=True)"
   ]
  },
  {
   "cell_type": "code",
   "execution_count": 6,
   "id": "79b2e7dd",
   "metadata": {},
   "outputs": [
    {
     "data": {
      "text/html": [
       "<div>\n",
       "<style scoped>\n",
       "    .dataframe tbody tr th:only-of-type {\n",
       "        vertical-align: middle;\n",
       "    }\n",
       "\n",
       "    .dataframe tbody tr th {\n",
       "        vertical-align: top;\n",
       "    }\n",
       "\n",
       "    .dataframe thead th {\n",
       "        text-align: right;\n",
       "    }\n",
       "</style>\n",
       "<table border=\"1\" class=\"dataframe\">\n",
       "  <thead>\n",
       "    <tr style=\"text-align: right;\">\n",
       "      <th></th>\n",
       "      <th>Game</th>\n",
       "      <th>Developer</th>\n",
       "      <th>Publisher</th>\n",
       "      <th>Release date</th>\n",
       "      <th>Sales</th>\n",
       "      <th>Platform</th>\n",
       "      <th>Genre</th>\n",
       "    </tr>\n",
       "  </thead>\n",
       "  <tbody>\n",
       "    <tr>\n",
       "      <th>0</th>\n",
       "      <td>Super Mario World</td>\n",
       "      <td>Nintendo EAD</td>\n",
       "      <td>Nintendo</td>\n",
       "      <td>November 21, 1990</td>\n",
       "      <td>20610000</td>\n",
       "      <td>Nintendo Entertainment System (NES)</td>\n",
       "      <td>NaN</td>\n",
       "    </tr>\n",
       "    <tr>\n",
       "      <th>1</th>\n",
       "      <td>Super Mario All-Stars</td>\n",
       "      <td>Nintendo EAD</td>\n",
       "      <td>Nintendo</td>\n",
       "      <td>July 14, 1993</td>\n",
       "      <td>10550000</td>\n",
       "      <td>Nintendo Entertainment System (NES)</td>\n",
       "      <td>NaN</td>\n",
       "    </tr>\n",
       "    <tr>\n",
       "      <th>2</th>\n",
       "      <td>Donkey Kong Country</td>\n",
       "      <td>Rare</td>\n",
       "      <td>Nintendo</td>\n",
       "      <td>November 21, 1994</td>\n",
       "      <td>9300000</td>\n",
       "      <td>Nintendo Entertainment System (NES)</td>\n",
       "      <td>NaN</td>\n",
       "    </tr>\n",
       "    <tr>\n",
       "      <th>3</th>\n",
       "      <td>Super Mario Kart</td>\n",
       "      <td>Nintendo EAD</td>\n",
       "      <td>Nintendo</td>\n",
       "      <td>August 27, 1992</td>\n",
       "      <td>8760000</td>\n",
       "      <td>Nintendo Entertainment System (NES)</td>\n",
       "      <td>NaN</td>\n",
       "    </tr>\n",
       "    <tr>\n",
       "      <th>4</th>\n",
       "      <td>Street Fighter II: The World Warrior</td>\n",
       "      <td>Capcom</td>\n",
       "      <td>Capcom</td>\n",
       "      <td>June 10, 1992</td>\n",
       "      <td>6300000</td>\n",
       "      <td>Nintendo Entertainment System (NES)</td>\n",
       "      <td>NaN</td>\n",
       "    </tr>\n",
       "  </tbody>\n",
       "</table>\n",
       "</div>"
      ],
      "text/plain": [
       "                                    Game     Developer Publisher  \\\n",
       "0                     Super Mario World   Nintendo EAD  Nintendo   \n",
       "1                 Super Mario All-Stars   Nintendo EAD  Nintendo   \n",
       "2                   Donkey Kong Country           Rare  Nintendo   \n",
       "3                      Super Mario Kart   Nintendo EAD  Nintendo   \n",
       "4  Street Fighter II: The World Warrior         Capcom    Capcom   \n",
       "\n",
       "        Release date     Sales                             Platform Genre  \n",
       "0  November 21, 1990  20610000  Nintendo Entertainment System (NES)   NaN  \n",
       "1      July 14, 1993  10550000  Nintendo Entertainment System (NES)   NaN  \n",
       "2  November 21, 1994   9300000  Nintendo Entertainment System (NES)   NaN  \n",
       "3    August 27, 1992   8760000  Nintendo Entertainment System (NES)   NaN  \n",
       "4      June 10, 1992   6300000  Nintendo Entertainment System (NES)   NaN  "
      ]
     },
     "execution_count": 6,
     "metadata": {},
     "output_type": "execute_result"
    }
   ],
   "source": [
    "df.head()"
   ]
  },
  {
   "cell_type": "code",
   "execution_count": 7,
   "id": "2d2b23f4",
   "metadata": {},
   "outputs": [],
   "source": [
    "df.drop(df[df.Genre.isnull()].index,inplace= True)"
   ]
  },
  {
   "cell_type": "code",
   "execution_count": 8,
   "id": "4fb384a2",
   "metadata": {},
   "outputs": [
    {
     "data": {
      "text/html": [
       "<div>\n",
       "<style scoped>\n",
       "    .dataframe tbody tr th:only-of-type {\n",
       "        vertical-align: middle;\n",
       "    }\n",
       "\n",
       "    .dataframe tbody tr th {\n",
       "        vertical-align: top;\n",
       "    }\n",
       "\n",
       "    .dataframe thead th {\n",
       "        text-align: right;\n",
       "    }\n",
       "</style>\n",
       "<table border=\"1\" class=\"dataframe\">\n",
       "  <thead>\n",
       "    <tr style=\"text-align: right;\">\n",
       "      <th></th>\n",
       "      <th>Game</th>\n",
       "      <th>Developer</th>\n",
       "      <th>Publisher</th>\n",
       "      <th>Release date</th>\n",
       "      <th>Sales</th>\n",
       "      <th>Platform</th>\n",
       "      <th>Genre</th>\n",
       "    </tr>\n",
       "  </thead>\n",
       "  <tbody>\n",
       "    <tr>\n",
       "      <th>137</th>\n",
       "      <td>Super Smash Bros. Melee</td>\n",
       "      <td>HAL Laboratory</td>\n",
       "      <td>Nintendo</td>\n",
       "      <td>November 21, 2001</td>\n",
       "      <td>7410000</td>\n",
       "      <td>GameCube</td>\n",
       "      <td>Fighting</td>\n",
       "    </tr>\n",
       "    <tr>\n",
       "      <th>138</th>\n",
       "      <td>Mario Kart: Double Dash</td>\n",
       "      <td>Nintendo EAD</td>\n",
       "      <td>Nintendo</td>\n",
       "      <td>November 7, 2003</td>\n",
       "      <td>6960000</td>\n",
       "      <td>GameCube</td>\n",
       "      <td>Racing</td>\n",
       "    </tr>\n",
       "    <tr>\n",
       "      <th>139</th>\n",
       "      <td>Super Mario Sunshine</td>\n",
       "      <td>Nintendo EAD</td>\n",
       "      <td>Nintendo</td>\n",
       "      <td>July 19, 2002</td>\n",
       "      <td>6280000</td>\n",
       "      <td>GameCube</td>\n",
       "      <td>Platformer</td>\n",
       "    </tr>\n",
       "    <tr>\n",
       "      <th>140</th>\n",
       "      <td>The Legend of Zelda: The Wind Waker</td>\n",
       "      <td>Nintendo EAD</td>\n",
       "      <td>Nintendo</td>\n",
       "      <td>December 13, 2002</td>\n",
       "      <td>4430000</td>\n",
       "      <td>GameCube</td>\n",
       "      <td>Action-adventure</td>\n",
       "    </tr>\n",
       "    <tr>\n",
       "      <th>141</th>\n",
       "      <td>Luigi's Mansion</td>\n",
       "      <td>Nintendo EAD</td>\n",
       "      <td>Nintendo</td>\n",
       "      <td>September 14, 2001</td>\n",
       "      <td>3330000</td>\n",
       "      <td>GameCube</td>\n",
       "      <td>Action-adventure</td>\n",
       "    </tr>\n",
       "  </tbody>\n",
       "</table>\n",
       "</div>"
      ],
      "text/plain": [
       "                                    Game       Developer Publisher  \\\n",
       "137              Super Smash Bros. Melee  HAL Laboratory  Nintendo   \n",
       "138              Mario Kart: Double Dash    Nintendo EAD  Nintendo   \n",
       "139                 Super Mario Sunshine    Nintendo EAD  Nintendo   \n",
       "140  The Legend of Zelda: The Wind Waker    Nintendo EAD  Nintendo   \n",
       "141                      Luigi's Mansion    Nintendo EAD  Nintendo   \n",
       "\n",
       "           Release date    Sales  Platform             Genre  \n",
       "137   November 21, 2001  7410000  GameCube          Fighting  \n",
       "138    November 7, 2003  6960000  GameCube            Racing  \n",
       "139       July 19, 2002  6280000  GameCube        Platformer  \n",
       "140   December 13, 2002  4430000  GameCube  Action-adventure  \n",
       "141  September 14, 2001  3330000  GameCube  Action-adventure  "
      ]
     },
     "execution_count": 8,
     "metadata": {},
     "output_type": "execute_result"
    }
   ],
   "source": [
    "df.head()"
   ]
  },
  {
   "cell_type": "code",
   "execution_count": 9,
   "id": "be043970",
   "metadata": {},
   "outputs": [
    {
     "name": "stdout",
     "output_type": "stream",
     "text": [
      "<class 'pandas.core.frame.DataFrame'>\n",
      "Int64Index: 293 entries, 137 to 429\n",
      "Data columns (total 7 columns):\n",
      " #   Column        Non-Null Count  Dtype \n",
      "---  ------        --------------  ----- \n",
      " 0   Game          293 non-null    object\n",
      " 1   Developer     293 non-null    object\n",
      " 2   Publisher     293 non-null    object\n",
      " 3   Release date  293 non-null    object\n",
      " 4   Sales         293 non-null    int64 \n",
      " 5   Platform      293 non-null    object\n",
      " 6   Genre         293 non-null    object\n",
      "dtypes: int64(1), object(6)\n",
      "memory usage: 18.3+ KB\n"
     ]
    }
   ],
   "source": [
    "df.info()"
   ]
  },
  {
   "cell_type": "code",
   "execution_count": 10,
   "id": "7b2ef5ce",
   "metadata": {},
   "outputs": [
    {
     "data": {
      "text/plain": [
       "0"
      ]
     },
     "execution_count": 10,
     "metadata": {},
     "output_type": "execute_result"
    }
   ],
   "source": [
    "df.Genre.isnull().sum()"
   ]
  },
  {
   "cell_type": "code",
   "execution_count": 11,
   "id": "1af2a594",
   "metadata": {},
   "outputs": [],
   "source": [
    "df.to_excel('Nintendo_games.xlsx')"
   ]
  },
  {
   "cell_type": "raw",
   "id": "8f41afb1",
   "metadata": {},
   "source": [
    "df.head(10)"
   ]
  },
  {
   "cell_type": "code",
   "execution_count": 12,
   "id": "ab65e864",
   "metadata": {},
   "outputs": [],
   "source": [
    "df['Release Year']=  df['Release date']"
   ]
  },
  {
   "cell_type": "code",
   "execution_count": 13,
   "id": "e728ae07",
   "metadata": {},
   "outputs": [
    {
     "data": {
      "text/plain": [
       "137     November 21, 2001\n",
       "138      November 7, 2003\n",
       "139         July 19, 2002\n",
       "140     December 13, 2002\n",
       "141    September 14, 2001\n",
       "              ...        \n",
       "425     December 20, 2018\n",
       "426      December 4, 2020\n",
       "427     November 11, 2021\n",
       "428     February 25, 2021\n",
       "429          May 19, 2019\n",
       "Name: Release date, Length: 293, dtype: object"
      ]
     },
     "execution_count": 13,
     "metadata": {},
     "output_type": "execute_result"
    }
   ],
   "source": [
    "df['Release date']"
   ]
  },
  {
   "cell_type": "code",
   "execution_count": 14,
   "id": "530b355d",
   "metadata": {},
   "outputs": [],
   "source": [
    "df_2= list(map(lambda x: x.split(','), df['Release date'].values))"
   ]
  },
  {
   "cell_type": "code",
   "execution_count": 15,
   "id": "4b371ed5",
   "metadata": {},
   "outputs": [],
   "source": [
    "Release_year=[]\n",
    "for i in range(len(df_2)):\n",
    "    Release_year.append(df_2[i][1])"
   ]
  },
  {
   "cell_type": "code",
   "execution_count": 70,
   "id": "b3e3754b",
   "metadata": {},
   "outputs": [
    {
     "ename": "TypeError",
     "evalue": "int() argument must be a string, a bytes-like object or a number, not 'list'",
     "output_type": "error",
     "traceback": [
      "\u001b[1;31m---------------------------------------------------------------------------\u001b[0m",
      "\u001b[1;31mTypeError\u001b[0m                                 Traceback (most recent call last)",
      "\u001b[1;32m~\\AppData\\Local\\Temp/ipykernel_13576/2819023331.py\u001b[0m in \u001b[0;36m<module>\u001b[1;34m\u001b[0m\n\u001b[1;32m----> 1\u001b[1;33m \u001b[0mint\u001b[0m\u001b[1;33m(\u001b[0m\u001b[0mRelease_year\u001b[0m\u001b[1;33m)\u001b[0m\u001b[1;33m\u001b[0m\u001b[1;33m\u001b[0m\u001b[0m\n\u001b[0m",
      "\u001b[1;31mTypeError\u001b[0m: int() argument must be a string, a bytes-like object or a number, not 'list'"
     ]
    }
   ],
   "source": []
  },
  {
   "cell_type": "code",
   "execution_count": 16,
   "id": "0e0c5f7a",
   "metadata": {},
   "outputs": [],
   "source": [
    "df['Release_year']= Release_year"
   ]
  },
  {
   "cell_type": "code",
   "execution_count": 80,
   "id": "c3d7ab2d",
   "metadata": {},
   "outputs": [],
   "source": [
    "df['Release_year']= df['Release_year'].astype('int32')"
   ]
  },
  {
   "cell_type": "code",
   "execution_count": 18,
   "id": "f81fe795",
   "metadata": {},
   "outputs": [],
   "source": [
    " df.to_excel('Nintendo_games.xlsx')"
   ]
  },
  {
   "cell_type": "markdown",
   "id": "0136e5a1",
   "metadata": {},
   "source": [
    "# The year with the most games sold"
   ]
  },
  {
   "cell_type": "code",
   "execution_count": 74,
   "id": "b92708b3",
   "metadata": {},
   "outputs": [],
   "source": [
    "df_sales= df.groupby(by='Release_year',as_index=False).sum()\n",
    "df_sales.sort_values(by='Sales',axis=0,ascending=False,inplace=True)"
   ]
  },
  {
   "cell_type": "code",
   "execution_count": 75,
   "id": "5e2dc4cc",
   "metadata": {},
   "outputs": [
    {
     "data": {
      "text/plain": [
       "<AxesSubplot:xlabel='Release_year', ylabel='Sales'>"
      ]
     },
     "execution_count": 75,
     "metadata": {},
     "output_type": "execute_result"
    },
    {
     "data": {
      "image/png": "[encoded data removed]",
      "text/plain": [
       "<Figure size 864x432 with 1 Axes>"
      ]
     },
     "metadata": {
      "needs_background": "light"
     },
     "output_type": "display_data"
    }
   ],
   "source": [
    "plt.figure(figsize=(12,6))\n",
    "sns.barplot(x='Release_year',y='Sales',data=df_sales,palette='Blues',hue= 'Sales',dodge=False)"
   ]
  },
  {
   "cell_type": "markdown",
   "id": "daa24cca",
   "metadata": {},
   "source": [
    "So, 2006 is the year with the most games sold. Then, what was the most sold game in 2006?"
   ]
  },
  {
   "cell_type": "markdown",
   "id": "cf14c502",
   "metadata": {},
   "source": [
    "# Most Sold Game in 2006"
   ]
  },
  {
   "cell_type": "code",
   "execution_count": 83,
   "id": "eda384ec",
   "metadata": {},
   "outputs": [],
   "source": [
    "df_2006 = df[df['Release_year']==2006]"
   ]
  },
  {
   "cell_type": "code",
   "execution_count": 85,
   "id": "bc2f0d42",
   "metadata": {},
   "outputs": [
    {
     "data": {
      "text/html": [
       "<div>\n",
       "<style scoped>\n",
       "    .dataframe tbody tr th:only-of-type {\n",
       "        vertical-align: middle;\n",
       "    }\n",
       "\n",
       "    .dataframe tbody tr th {\n",
       "        vertical-align: top;\n",
       "    }\n",
       "\n",
       "    .dataframe thead th {\n",
       "        text-align: right;\n",
       "    }\n",
       "</style>\n",
       "<table border=\"1\" class=\"dataframe\">\n",
       "  <thead>\n",
       "    <tr style=\"text-align: right;\">\n",
       "      <th></th>\n",
       "      <th>Game</th>\n",
       "      <th>Developer</th>\n",
       "      <th>Publisher</th>\n",
       "      <th>Release date</th>\n",
       "      <th>Sales</th>\n",
       "      <th>Platform</th>\n",
       "      <th>Genre</th>\n",
       "      <th>Release Year</th>\n",
       "      <th>Release_year</th>\n",
       "    </tr>\n",
       "  </thead>\n",
       "  <tbody>\n",
       "    <tr>\n",
       "      <th>156</th>\n",
       "      <td>The Legend of Zelda: Twilight Princess</td>\n",
       "      <td>Nintendo EAD</td>\n",
       "      <td>Nintendo</td>\n",
       "      <td>December 2, 2006</td>\n",
       "      <td>1430000</td>\n",
       "      <td>GameCube</td>\n",
       "      <td>Action-adventure</td>\n",
       "      <td>December 2, 2006</td>\n",
       "      <td>2006</td>\n",
       "    </tr>\n",
       "    <tr>\n",
       "      <th>172</th>\n",
       "      <td>New Super Mario Bros.</td>\n",
       "      <td>Nintendo EAD (Group 4)</td>\n",
       "      <td>Nintendo</td>\n",
       "      <td>May 15, 2006</td>\n",
       "      <td>30800000</td>\n",
       "      <td>Nintendo DS</td>\n",
       "      <td>Platform</td>\n",
       "      <td>May 15, 2006</td>\n",
       "      <td>2006</td>\n",
       "    </tr>\n",
       "    <tr>\n",
       "      <th>176</th>\n",
       "      <td>Pokémon Diamond and Pearl</td>\n",
       "      <td>Game Freak</td>\n",
       "      <td>The Pokémon Company</td>\n",
       "      <td>September 28, 2006</td>\n",
       "      <td>17670000</td>\n",
       "      <td>Nintendo DS</td>\n",
       "      <td>Role-playing</td>\n",
       "      <td>September 28, 2006</td>\n",
       "      <td>2006</td>\n",
       "    </tr>\n",
       "    <tr>\n",
       "      <th>193</th>\n",
       "      <td>English Training: Have Fun Improving Your Skills!</td>\n",
       "      <td>Nintendo SPD</td>\n",
       "      <td>Nintendo</td>\n",
       "      <td>January 26, 2006</td>\n",
       "      <td>3910000</td>\n",
       "      <td>Nintendo DS</td>\n",
       "      <td>Puzzle</td>\n",
       "      <td>January 26, 2006</td>\n",
       "      <td>2006</td>\n",
       "    </tr>\n",
       "    <tr>\n",
       "      <th>197</th>\n",
       "      <td>Yoshi's Island DS</td>\n",
       "      <td>Artoon</td>\n",
       "      <td>Nintendo</td>\n",
       "      <td>November 13, 2006</td>\n",
       "      <td>3360000</td>\n",
       "      <td>Nintendo DS</td>\n",
       "      <td>Roguelike</td>\n",
       "      <td>November 13, 2006</td>\n",
       "      <td>2006</td>\n",
       "    </tr>\n",
       "  </tbody>\n",
       "</table>\n",
       "</div>"
      ],
      "text/plain": [
       "                                                  Game  \\\n",
       "156             The Legend of Zelda: Twilight Princess   \n",
       "172                              New Super Mario Bros.   \n",
       "176                          Pokémon Diamond and Pearl   \n",
       "193  English Training: Have Fun Improving Your Skills!   \n",
       "197                                  Yoshi's Island DS   \n",
       "\n",
       "                  Developer            Publisher        Release date  \\\n",
       "156            Nintendo EAD             Nintendo    December 2, 2006   \n",
       "172  Nintendo EAD (Group 4)             Nintendo        May 15, 2006   \n",
       "176              Game Freak  The Pokémon Company  September 28, 2006   \n",
       "193            Nintendo SPD             Nintendo    January 26, 2006   \n",
       "197                  Artoon             Nintendo   November 13, 2006   \n",
       "\n",
       "        Sales     Platform             Genre        Release Year  Release_year  \n",
       "156   1430000     GameCube  Action-adventure    December 2, 2006          2006  \n",
       "172  30800000  Nintendo DS          Platform        May 15, 2006          2006  \n",
       "176  17670000  Nintendo DS      Role-playing  September 28, 2006          2006  \n",
       "193   3910000  Nintendo DS            Puzzle    January 26, 2006          2006  \n",
       "197   3360000  Nintendo DS         Roguelike   November 13, 2006          2006  "
      ]
     },
     "execution_count": 85,
     "metadata": {},
     "output_type": "execute_result"
    }
   ],
   "source": [
    "df_2006.head()"
   ]
  },
  {
   "cell_type": "code",
   "execution_count": 88,
   "id": "46488146",
   "metadata": {},
   "outputs": [
    {
     "name": "stderr",
     "output_type": "stream",
     "text": [
      "C:\\Users\\Hp\\anaconda3\\lib\\site-packages\\pandas\\util\\_decorators.py:311: SettingWithCopyWarning: \n",
      "A value is trying to be set on a copy of a slice from a DataFrame\n",
      "\n",
      "See the caveats in the documentation: https://pandas.pydata.org/pandas-docs/stable/user_guide/indexing.html#returning-a-view-versus-a-copy\n",
      "  return func(*args, **kwargs)\n"
     ]
    }
   ],
   "source": [
    "df_2006.sort_values(by='Sales',ascending=False,inplace=True)"
   ]
  },
  {
   "cell_type": "code",
   "execution_count": 93,
   "id": "02b02b71",
   "metadata": {},
   "outputs": [
    {
     "data": {
      "text/plain": [
       "<AxesSubplot:xlabel='Game', ylabel='Sales'>"
      ]
     },
     "execution_count": 93,
     "metadata": {},
     "output_type": "execute_result"
    },
    {
     "data": {
      "image/png": "[encoded data removed]",
      "text/plain": [
       "<Figure size 864x432 with 1 Axes>"
      ]
     },
     "metadata": {
      "needs_background": "light"
     },
     "output_type": "display_data"
    }
   ],
   "source": [
    "plt.figure(figsize=(12,6))\n",
    "plt.xticks(rotation='vertical')\n",
    "sns.barplot(x='Game',y='Sales',hue='Sales',palette='Blues',data=df_2006[:10],dodge=False)"
   ]
  },
  {
   "cell_type": "markdown",
   "id": "950c6a96",
   "metadata": {},
   "source": [
    "Wii Sports is the most sold game in 2006 and the all time best seller Nintendo game."
   ]
  },
  {
   "cell_type": "code",
   "execution_count": 101,
   "id": "195a86be",
   "metadata": {},
   "outputs": [],
   "source": [
    "df.drop('Release Year',inplace=True,axis=1)"
   ]
  },
  {
   "cell_type": "code",
   "execution_count": 103,
   "id": "26279426",
   "metadata": {},
   "outputs": [
    {
     "data": {
      "text/html": [
       "<div>\n",
       "<style scoped>\n",
       "    .dataframe tbody tr th:only-of-type {\n",
       "        vertical-align: middle;\n",
       "    }\n",
       "\n",
       "    .dataframe tbody tr th {\n",
       "        vertical-align: top;\n",
       "    }\n",
       "\n",
       "    .dataframe thead th {\n",
       "        text-align: right;\n",
       "    }\n",
       "</style>\n",
       "<table border=\"1\" class=\"dataframe\">\n",
       "  <thead>\n",
       "    <tr style=\"text-align: right;\">\n",
       "      <th></th>\n",
       "      <th>Game</th>\n",
       "      <th>Developer</th>\n",
       "      <th>Publisher</th>\n",
       "      <th>Release date</th>\n",
       "      <th>Sales</th>\n",
       "      <th>Platform</th>\n",
       "      <th>Genre</th>\n",
       "      <th>Release_year</th>\n",
       "    </tr>\n",
       "  </thead>\n",
       "  <tbody>\n",
       "    <tr>\n",
       "      <th>137</th>\n",
       "      <td>Super Smash Bros. Melee</td>\n",
       "      <td>HAL Laboratory</td>\n",
       "      <td>Nintendo</td>\n",
       "      <td>November 21, 2001</td>\n",
       "      <td>7410000</td>\n",
       "      <td>GameCube</td>\n",
       "      <td>Fighting</td>\n",
       "      <td>2001</td>\n",
       "    </tr>\n",
       "    <tr>\n",
       "      <th>138</th>\n",
       "      <td>Mario Kart: Double Dash</td>\n",
       "      <td>Nintendo EAD</td>\n",
       "      <td>Nintendo</td>\n",
       "      <td>November 7, 2003</td>\n",
       "      <td>6960000</td>\n",
       "      <td>GameCube</td>\n",
       "      <td>Racing</td>\n",
       "      <td>2003</td>\n",
       "    </tr>\n",
       "    <tr>\n",
       "      <th>139</th>\n",
       "      <td>Super Mario Sunshine</td>\n",
       "      <td>Nintendo EAD</td>\n",
       "      <td>Nintendo</td>\n",
       "      <td>July 19, 2002</td>\n",
       "      <td>6280000</td>\n",
       "      <td>GameCube</td>\n",
       "      <td>Platformer</td>\n",
       "      <td>2002</td>\n",
       "    </tr>\n",
       "    <tr>\n",
       "      <th>140</th>\n",
       "      <td>The Legend of Zelda: The Wind Waker</td>\n",
       "      <td>Nintendo EAD</td>\n",
       "      <td>Nintendo</td>\n",
       "      <td>December 13, 2002</td>\n",
       "      <td>4430000</td>\n",
       "      <td>GameCube</td>\n",
       "      <td>Action-adventure</td>\n",
       "      <td>2002</td>\n",
       "    </tr>\n",
       "    <tr>\n",
       "      <th>141</th>\n",
       "      <td>Luigi's Mansion</td>\n",
       "      <td>Nintendo EAD</td>\n",
       "      <td>Nintendo</td>\n",
       "      <td>September 14, 2001</td>\n",
       "      <td>3330000</td>\n",
       "      <td>GameCube</td>\n",
       "      <td>Action-adventure</td>\n",
       "      <td>2001</td>\n",
       "    </tr>\n",
       "    <tr>\n",
       "      <th>...</th>\n",
       "      <td>...</td>\n",
       "      <td>...</td>\n",
       "      <td>...</td>\n",
       "      <td>...</td>\n",
       "      <td>...</td>\n",
       "      <td>...</td>\n",
       "      <td>...</td>\n",
       "      <td>...</td>\n",
       "    </tr>\n",
       "    <tr>\n",
       "      <th>425</th>\n",
       "      <td>Fitness Boxing</td>\n",
       "      <td>Imagineer</td>\n",
       "      <td>JP: Imagineer, NA/PAL: Nintendo</td>\n",
       "      <td>December 20, 2018</td>\n",
       "      <td>1000000</td>\n",
       "      <td>Nintendo Switch</td>\n",
       "      <td>Exergame, rhythm</td>\n",
       "      <td>2018</td>\n",
       "    </tr>\n",
       "    <tr>\n",
       "      <th>426</th>\n",
       "      <td>Fitness Boxing 2: Rhythm and Exercise</td>\n",
       "      <td>Imagineer</td>\n",
       "      <td>JP: Imagineer, NA/PAL: Nintendo</td>\n",
       "      <td>December 4, 2020</td>\n",
       "      <td>1000000</td>\n",
       "      <td>Nintendo Switch</td>\n",
       "      <td>Exergame, rhythm</td>\n",
       "      <td>2020</td>\n",
       "    </tr>\n",
       "    <tr>\n",
       "      <th>427</th>\n",
       "      <td>Shin Megami Tensei V</td>\n",
       "      <td>Atlus</td>\n",
       "      <td>JP: Atlus, NA: Sega, PAL: Nintendo</td>\n",
       "      <td>November 11, 2021</td>\n",
       "      <td>1000000</td>\n",
       "      <td>Nintendo Switch</td>\n",
       "      <td>Role-playing</td>\n",
       "      <td>2021</td>\n",
       "    </tr>\n",
       "    <tr>\n",
       "      <th>428</th>\n",
       "      <td>Story of Seasons: Pioneers of Olive Town</td>\n",
       "      <td>Marvelous</td>\n",
       "      <td>Xseed Games</td>\n",
       "      <td>February 25, 2021</td>\n",
       "      <td>1000000</td>\n",
       "      <td>Nintendo Switch</td>\n",
       "      <td>Simulation, role-playing</td>\n",
       "      <td>2021</td>\n",
       "    </tr>\n",
       "    <tr>\n",
       "      <th>429</th>\n",
       "      <td>Thief Simulator</td>\n",
       "      <td>Noble Muffins</td>\n",
       "      <td>Forever Entertainment</td>\n",
       "      <td>May 19, 2019</td>\n",
       "      <td>1000000</td>\n",
       "      <td>Nintendo Switch</td>\n",
       "      <td>Stealth</td>\n",
       "      <td>2019</td>\n",
       "    </tr>\n",
       "  </tbody>\n",
       "</table>\n",
       "<p>293 rows × 8 columns</p>\n",
       "</div>"
      ],
      "text/plain": [
       "                                         Game       Developer  \\\n",
       "137                   Super Smash Bros. Melee  HAL Laboratory   \n",
       "138                   Mario Kart: Double Dash    Nintendo EAD   \n",
       "139                      Super Mario Sunshine    Nintendo EAD   \n",
       "140       The Legend of Zelda: The Wind Waker    Nintendo EAD   \n",
       "141                           Luigi's Mansion    Nintendo EAD   \n",
       "..                                        ...             ...   \n",
       "425                            Fitness Boxing       Imagineer   \n",
       "426     Fitness Boxing 2: Rhythm and Exercise       Imagineer   \n",
       "427                      Shin Megami Tensei V           Atlus   \n",
       "428  Story of Seasons: Pioneers of Olive Town       Marvelous   \n",
       "429                           Thief Simulator   Noble Muffins   \n",
       "\n",
       "                              Publisher        Release date    Sales  \\\n",
       "137                            Nintendo   November 21, 2001  7410000   \n",
       "138                            Nintendo    November 7, 2003  6960000   \n",
       "139                            Nintendo       July 19, 2002  6280000   \n",
       "140                            Nintendo   December 13, 2002  4430000   \n",
       "141                            Nintendo  September 14, 2001  3330000   \n",
       "..                                  ...                 ...      ...   \n",
       "425     JP: Imagineer, NA/PAL: Nintendo   December 20, 2018  1000000   \n",
       "426     JP: Imagineer, NA/PAL: Nintendo    December 4, 2020  1000000   \n",
       "427  JP: Atlus, NA: Sega, PAL: Nintendo   November 11, 2021  1000000   \n",
       "428                         Xseed Games   February 25, 2021  1000000   \n",
       "429               Forever Entertainment        May 19, 2019  1000000   \n",
       "\n",
       "            Platform                     Genre  Release_year  \n",
       "137         GameCube                  Fighting          2001  \n",
       "138         GameCube                    Racing          2003  \n",
       "139         GameCube                Platformer          2002  \n",
       "140         GameCube          Action-adventure          2002  \n",
       "141         GameCube          Action-adventure          2001  \n",
       "..               ...                       ...           ...  \n",
       "425  Nintendo Switch          Exergame, rhythm          2018  \n",
       "426  Nintendo Switch          Exergame, rhythm          2020  \n",
       "427  Nintendo Switch              Role-playing          2021  \n",
       "428  Nintendo Switch  Simulation, role-playing          2021  \n",
       "429  Nintendo Switch                   Stealth          2019  \n",
       "\n",
       "[293 rows x 8 columns]"
      ]
     },
     "execution_count": 103,
     "metadata": {},
     "output_type": "execute_result"
    }
   ],
   "source": [
    "df"
   ]
  },
  {
   "cell_type": "markdown",
   "id": "b8d65623",
   "metadata": {},
   "source": [
    "# Most successful game developer"
   ]
  },
  {
   "cell_type": "code",
   "execution_count": 107,
   "id": "0d9ba77e",
   "metadata": {},
   "outputs": [],
   "source": [
    "df_developer= df.groupby(by='Developer',as_index=False).sum()"
   ]
  },
  {
   "cell_type": "code",
   "execution_count": 121,
   "id": "5e359e00",
   "metadata": {},
   "outputs": [],
   "source": [
    "df_developer.sort_values(by='Sales',ascending=False,inplace=True)"
   ]
  },
  {
   "cell_type": "code",
   "execution_count": 122,
   "id": "25b073ad",
   "metadata": {},
   "outputs": [
    {
     "data": {
      "text/html": [
       "<div>\n",
       "<style scoped>\n",
       "    .dataframe tbody tr th:only-of-type {\n",
       "        vertical-align: middle;\n",
       "    }\n",
       "\n",
       "    .dataframe tbody tr th {\n",
       "        vertical-align: top;\n",
       "    }\n",
       "\n",
       "    .dataframe thead th {\n",
       "        text-align: right;\n",
       "    }\n",
       "</style>\n",
       "<table border=\"1\" class=\"dataframe\">\n",
       "  <thead>\n",
       "    <tr style=\"text-align: right;\">\n",
       "      <th></th>\n",
       "      <th>Developer</th>\n",
       "      <th>Sales</th>\n",
       "      <th>Release_year</th>\n",
       "    </tr>\n",
       "  </thead>\n",
       "  <tbody>\n",
       "    <tr>\n",
       "      <th>76</th>\n",
       "      <td>Nintendo EPD</td>\n",
       "      <td>204360000</td>\n",
       "      <td>32294</td>\n",
       "    </tr>\n",
       "    <tr>\n",
       "      <th>33</th>\n",
       "      <td>Game Freak</td>\n",
       "      <td>171580000</td>\n",
       "      <td>26180</td>\n",
       "    </tr>\n",
       "    <tr>\n",
       "      <th>72</th>\n",
       "      <td>Nintendo EAD (Group 2)</td>\n",
       "      <td>162990000</td>\n",
       "      <td>12042</td>\n",
       "    </tr>\n",
       "    <tr>\n",
       "      <th>71</th>\n",
       "      <td>Nintendo EAD (Group 1)</td>\n",
       "      <td>105150000</td>\n",
       "      <td>10035</td>\n",
       "    </tr>\n",
       "    <tr>\n",
       "      <th>68</th>\n",
       "      <td>Nintendo EAD</td>\n",
       "      <td>97560000</td>\n",
       "      <td>36133</td>\n",
       "    </tr>\n",
       "    <tr>\n",
       "      <th>...</th>\n",
       "      <td>...</td>\n",
       "      <td>...</td>\n",
       "      <td>...</td>\n",
       "    </tr>\n",
       "    <tr>\n",
       "      <th>92</th>\n",
       "      <td>Pipeworks Software</td>\n",
       "      <td>1000000</td>\n",
       "      <td>2010</td>\n",
       "    </tr>\n",
       "    <tr>\n",
       "      <th>91</th>\n",
       "      <td>Pi Studios</td>\n",
       "      <td>1000000</td>\n",
       "      <td>2008</td>\n",
       "    </tr>\n",
       "    <tr>\n",
       "      <th>88</th>\n",
       "      <td>Noble Muffins</td>\n",
       "      <td>1000000</td>\n",
       "      <td>2019</td>\n",
       "    </tr>\n",
       "    <tr>\n",
       "      <th>55</th>\n",
       "      <td>Marvelous</td>\n",
       "      <td>1000000</td>\n",
       "      <td>2021</td>\n",
       "    </tr>\n",
       "    <tr>\n",
       "      <th>58</th>\n",
       "      <td>Mixi</td>\n",
       "      <td>1000000</td>\n",
       "      <td>2012</td>\n",
       "    </tr>\n",
       "  </tbody>\n",
       "</table>\n",
       "<p>125 rows × 3 columns</p>\n",
       "</div>"
      ],
      "text/plain": [
       "                 Developer      Sales  Release_year\n",
       "76            Nintendo EPD  204360000         32294\n",
       "33              Game Freak  171580000         26180\n",
       "72  Nintendo EAD (Group 2)  162990000         12042\n",
       "71  Nintendo EAD (Group 1)  105150000         10035\n",
       "68            Nintendo EAD   97560000         36133\n",
       "..                     ...        ...           ...\n",
       "92      Pipeworks Software    1000000          2010\n",
       "91              Pi Studios    1000000          2008\n",
       "88           Noble Muffins    1000000          2019\n",
       "55               Marvelous    1000000          2021\n",
       "58                    Mixi    1000000          2012\n",
       "\n",
       "[125 rows x 3 columns]"
      ]
     },
     "execution_count": 122,
     "metadata": {},
     "output_type": "execute_result"
    }
   ],
   "source": [
    "df_developer"
   ]
  },
  {
   "cell_type": "code",
   "execution_count": 126,
   "id": "eec22021",
   "metadata": {},
   "outputs": [
    {
     "data": {
      "text/plain": [
       "<AxesSubplot:xlabel='Developer', ylabel='Sales'>"
      ]
     },
     "execution_count": 126,
     "metadata": {},
     "output_type": "execute_result"
    },
    {
     "data": {
      "image/png": "[encoded data removed]",
      "text/plain": [
       "<Figure size 720x432 with 1 Axes>"
      ]
     },
     "metadata": {
      "needs_background": "light"
     },
     "output_type": "display_data"
    }
   ],
   "source": [
    "plt.figure(figsize=(10,6))\n",
    "plt.xticks(rotation='vertical')\n",
    "sns.barplot(x='Developer',y='Sales',data=df_developer[:10],hue='Sales',palette='Blues',dodge=False)"
   ]
  },
  {
   "cell_type": "markdown",
   "id": "c9fe2393",
   "metadata": {},
   "source": [
    "Nintendo EPD is the most successful developer dealing with nintendo company with 204,360,000 games sold, it is followed by \"Game Freak\" 171,580,000 games sold"
   ]
  },
  {
   "cell_type": "markdown",
   "id": "c26788f8",
   "metadata": {},
   "source": [
    "# Best games developed by 'Game Freak'"
   ]
  },
  {
   "cell_type": "code",
   "execution_count": 128,
   "id": "30c04019",
   "metadata": {},
   "outputs": [],
   "source": [
    "df_GameFreak = df[df['Developer']=='Game Freak']"
   ]
  },
  {
   "cell_type": "code",
   "execution_count": 134,
   "id": "4329d08d",
   "metadata": {},
   "outputs": [
    {
     "data": {
      "text/html": [
       "<div>\n",
       "<style scoped>\n",
       "    .dataframe tbody tr th:only-of-type {\n",
       "        vertical-align: middle;\n",
       "    }\n",
       "\n",
       "    .dataframe tbody tr th {\n",
       "        vertical-align: top;\n",
       "    }\n",
       "\n",
       "    .dataframe thead th {\n",
       "        text-align: right;\n",
       "    }\n",
       "</style>\n",
       "<table border=\"1\" class=\"dataframe\">\n",
       "  <thead>\n",
       "    <tr style=\"text-align: right;\">\n",
       "      <th></th>\n",
       "      <th>Game</th>\n",
       "      <th>Developer</th>\n",
       "      <th>Publisher</th>\n",
       "      <th>Release date</th>\n",
       "      <th>Sales</th>\n",
       "      <th>Platform</th>\n",
       "      <th>Genre</th>\n",
       "      <th>Release_year</th>\n",
       "    </tr>\n",
       "  </thead>\n",
       "  <tbody>\n",
       "    <tr>\n",
       "      <th>369</th>\n",
       "      <td>Pokémon Sword and Shield</td>\n",
       "      <td>Game Freak</td>\n",
       "      <td>The Pokémon Company,Nintendo</td>\n",
       "      <td>November 15, 2019</td>\n",
       "      <td>24270000</td>\n",
       "      <td>Nintendo Switch</td>\n",
       "      <td>Role-playing</td>\n",
       "      <td>2019</td>\n",
       "    </tr>\n",
       "    <tr>\n",
       "      <th>176</th>\n",
       "      <td>Pokémon Diamond and Pearl</td>\n",
       "      <td>Game Freak</td>\n",
       "      <td>The Pokémon Company</td>\n",
       "      <td>September 28, 2006</td>\n",
       "      <td>17670000</td>\n",
       "      <td>Nintendo DS</td>\n",
       "      <td>Role-playing</td>\n",
       "      <td>2006</td>\n",
       "    </tr>\n",
       "    <tr>\n",
       "      <th>309</th>\n",
       "      <td>Pokémon X and Y</td>\n",
       "      <td>Game Freak</td>\n",
       "      <td>The Pokémon Company, Nintendo</td>\n",
       "      <td>October 12, 2013</td>\n",
       "      <td>16620000</td>\n",
       "      <td>Nintendo 3DS</td>\n",
       "      <td>Role-playing</td>\n",
       "      <td>2013</td>\n",
       "    </tr>\n",
       "    <tr>\n",
       "      <th>310</th>\n",
       "      <td>Pokémon Sun and Moon</td>\n",
       "      <td>Game Freak</td>\n",
       "      <td>The Pokémon Company, Nintendo</td>\n",
       "      <td>November 18, 2016</td>\n",
       "      <td>16280000</td>\n",
       "      <td>Nintendo 3DS</td>\n",
       "      <td>Role-playing</td>\n",
       "      <td>2016</td>\n",
       "    </tr>\n",
       "    <tr>\n",
       "      <th>177</th>\n",
       "      <td>Pokémon Black and White</td>\n",
       "      <td>Game Freak</td>\n",
       "      <td>The Pokémon Company</td>\n",
       "      <td>September 18, 2010</td>\n",
       "      <td>15640000</td>\n",
       "      <td>Nintendo DS</td>\n",
       "      <td>Role-playing</td>\n",
       "      <td>2010</td>\n",
       "    </tr>\n",
       "    <tr>\n",
       "      <th>373</th>\n",
       "      <td>Pokémon: Let's Go, Pikachu! and Let's Go, Eevee!</td>\n",
       "      <td>Game Freak</td>\n",
       "      <td>The Pokémon Company, Nintendo</td>\n",
       "      <td>November 16, 2018</td>\n",
       "      <td>14530000</td>\n",
       "      <td>Nintendo Switch</td>\n",
       "      <td>Role-playing</td>\n",
       "      <td>2018</td>\n",
       "    </tr>\n",
       "    <tr>\n",
       "      <th>311</th>\n",
       "      <td>Pokémon Omega Ruby and Alpha Sapphire</td>\n",
       "      <td>Game Freak</td>\n",
       "      <td>The Pokémon Company, Nintendo</td>\n",
       "      <td>November 21, 2014</td>\n",
       "      <td>14500000</td>\n",
       "      <td>Nintendo 3DS</td>\n",
       "      <td>Role-playing</td>\n",
       "      <td>2014</td>\n",
       "    </tr>\n",
       "    <tr>\n",
       "      <th>179</th>\n",
       "      <td>Pokémon HeartGold and SoulSilver</td>\n",
       "      <td>Game Freak</td>\n",
       "      <td>The Pokémon Company</td>\n",
       "      <td>September 12, 2009</td>\n",
       "      <td>12720000</td>\n",
       "      <td>Nintendo DS</td>\n",
       "      <td>Role-playing</td>\n",
       "      <td>2009</td>\n",
       "    </tr>\n",
       "    <tr>\n",
       "      <th>377</th>\n",
       "      <td>Pokémon Legends: Arceus</td>\n",
       "      <td>Game Freak</td>\n",
       "      <td>The Pokémon Company, Nintendo</td>\n",
       "      <td>January 28, 2022</td>\n",
       "      <td>12640000</td>\n",
       "      <td>Nintendo Switch</td>\n",
       "      <td>Action role-playing</td>\n",
       "      <td>2022</td>\n",
       "    </tr>\n",
       "    <tr>\n",
       "      <th>316</th>\n",
       "      <td>Pokémon Ultra Sun and Ultra Moon</td>\n",
       "      <td>Game Freak</td>\n",
       "      <td>The Pokémon Company, Nintendo</td>\n",
       "      <td>November 17, 2017</td>\n",
       "      <td>9090000</td>\n",
       "      <td>Nintendo 3DS</td>\n",
       "      <td>Role-playing</td>\n",
       "      <td>2017</td>\n",
       "    </tr>\n",
       "    <tr>\n",
       "      <th>183</th>\n",
       "      <td>Pokémon Black 2 and White 2</td>\n",
       "      <td>Game Freak</td>\n",
       "      <td>The Pokémon Company</td>\n",
       "      <td>June 23, 2012</td>\n",
       "      <td>8520000</td>\n",
       "      <td>Nintendo DS</td>\n",
       "      <td>Role-playing</td>\n",
       "      <td>2012</td>\n",
       "    </tr>\n",
       "    <tr>\n",
       "      <th>184</th>\n",
       "      <td>Pokémon Platinum</td>\n",
       "      <td>Game Freak</td>\n",
       "      <td>The Pokémon Company</td>\n",
       "      <td>September 13, 2008</td>\n",
       "      <td>7600000</td>\n",
       "      <td>Nintendo DS</td>\n",
       "      <td>Role-playing</td>\n",
       "      <td>2008</td>\n",
       "    </tr>\n",
       "    <tr>\n",
       "      <th>347</th>\n",
       "      <td>Pokémon Red / Green / Blue / Yellowd</td>\n",
       "      <td>Game Freak</td>\n",
       "      <td>Nintendo</td>\n",
       "      <td>February 27, 2016</td>\n",
       "      <td>1500000</td>\n",
       "      <td>Nintendo 3DS</td>\n",
       "      <td>Role-playing</td>\n",
       "      <td>2016</td>\n",
       "    </tr>\n",
       "  </tbody>\n",
       "</table>\n",
       "</div>"
      ],
      "text/plain": [
       "                                                 Game   Developer  \\\n",
       "369                          Pokémon Sword and Shield  Game Freak   \n",
       "176                         Pokémon Diamond and Pearl  Game Freak   \n",
       "309                                   Pokémon X and Y  Game Freak   \n",
       "310                              Pokémon Sun and Moon  Game Freak   \n",
       "177                           Pokémon Black and White  Game Freak   \n",
       "373  Pokémon: Let's Go, Pikachu! and Let's Go, Eevee!  Game Freak   \n",
       "311             Pokémon Omega Ruby and Alpha Sapphire  Game Freak   \n",
       "179                  Pokémon HeartGold and SoulSilver  Game Freak   \n",
       "377                           Pokémon Legends: Arceus  Game Freak   \n",
       "316                  Pokémon Ultra Sun and Ultra Moon  Game Freak   \n",
       "183                       Pokémon Black 2 and White 2  Game Freak   \n",
       "184                                  Pokémon Platinum  Game Freak   \n",
       "347              Pokémon Red / Green / Blue / Yellowd  Game Freak   \n",
       "\n",
       "                         Publisher        Release date     Sales  \\\n",
       "369   The Pokémon Company,Nintendo   November 15, 2019  24270000   \n",
       "176            The Pokémon Company  September 28, 2006  17670000   \n",
       "309  The Pokémon Company, Nintendo    October 12, 2013  16620000   \n",
       "310  The Pokémon Company, Nintendo   November 18, 2016  16280000   \n",
       "177            The Pokémon Company  September 18, 2010  15640000   \n",
       "373  The Pokémon Company, Nintendo   November 16, 2018  14530000   \n",
       "311  The Pokémon Company, Nintendo   November 21, 2014  14500000   \n",
       "179            The Pokémon Company  September 12, 2009  12720000   \n",
       "377  The Pokémon Company, Nintendo    January 28, 2022  12640000   \n",
       "316  The Pokémon Company, Nintendo   November 17, 2017   9090000   \n",
       "183            The Pokémon Company       June 23, 2012   8520000   \n",
       "184            The Pokémon Company  September 13, 2008   7600000   \n",
       "347                       Nintendo   February 27, 2016   1500000   \n",
       "\n",
       "            Platform                Genre  Release_year  \n",
       "369  Nintendo Switch         Role-playing          2019  \n",
       "176      Nintendo DS         Role-playing          2006  \n",
       "309     Nintendo 3DS         Role-playing          2013  \n",
       "310     Nintendo 3DS         Role-playing          2016  \n",
       "177      Nintendo DS         Role-playing          2010  \n",
       "373  Nintendo Switch         Role-playing          2018  \n",
       "311     Nintendo 3DS         Role-playing          2014  \n",
       "179      Nintendo DS         Role-playing          2009  \n",
       "377  Nintendo Switch  Action role-playing          2022  \n",
       "316     Nintendo 3DS         Role-playing          2017  \n",
       "183      Nintendo DS         Role-playing          2012  \n",
       "184      Nintendo DS         Role-playing          2008  \n",
       "347     Nintendo 3DS         Role-playing          2016  "
      ]
     },
     "execution_count": 134,
     "metadata": {},
     "output_type": "execute_result"
    }
   ],
   "source": [
    "df_GameFreak = df_GameFreak.sort_values(by='Sales',ascending=False)\n",
    "df_GameFreak"
   ]
  },
  {
   "cell_type": "code",
   "execution_count": 136,
   "id": "eb0c215f",
   "metadata": {},
   "outputs": [
    {
     "data": {
      "text/plain": [
       "<AxesSubplot:xlabel='Game', ylabel='Sales'>"
      ]
     },
     "execution_count": 136,
     "metadata": {},
     "output_type": "execute_result"
    },
    {
     "data": {
      "image/png": "[encoded data removed]",
      "text/plain": [
       "<Figure size 720x432 with 1 Axes>"
      ]
     },
     "metadata": {
      "needs_background": "light"
     },
     "output_type": "display_data"
    }
   ],
   "source": [
    "plt.figure(figsize=(10,6))\n",
    "plt.xticks(rotation='vertical')\n",
    "sns.barplot(x='Game',y='Sales',data=df_GameFreak[:10],hue='Sales',palette='Blues',dodge=False)"
   ]
  },
  {
   "cell_type": "markdown",
   "id": "50a241e2",
   "metadata": {},
   "source": [
    "'Pokemon Sword and Shield' is Game Freak's most sold game "
   ]
  },
  {
   "cell_type": "markdown",
   "id": "88ef00ab",
   "metadata": {},
   "source": [
    "# Best Racing game on Nintendo"
   ]
  },
  {
   "cell_type": "code",
   "execution_count": 140,
   "id": "4f7c947b",
   "metadata": {},
   "outputs": [
    {
     "data": {
      "text/plain": [
       "68"
      ]
     },
     "execution_count": 140,
     "metadata": {},
     "output_type": "execute_result"
    }
   ],
   "source": [
    "len(set(df.Genre.values))"
   ]
  },
  {
   "cell_type": "code",
   "execution_count": 143,
   "id": "735c6e75",
   "metadata": {},
   "outputs": [],
   "source": [
    "df_Racing= df[df['Genre']=='Racing']"
   ]
  },
  {
   "cell_type": "code",
   "execution_count": 147,
   "id": "57246f05",
   "metadata": {},
   "outputs": [
    {
     "data": {
      "text/html": [
       "<div>\n",
       "<style scoped>\n",
       "    .dataframe tbody tr th:only-of-type {\n",
       "        vertical-align: middle;\n",
       "    }\n",
       "\n",
       "    .dataframe tbody tr th {\n",
       "        vertical-align: top;\n",
       "    }\n",
       "\n",
       "    .dataframe thead th {\n",
       "        text-align: right;\n",
       "    }\n",
       "</style>\n",
       "<table border=\"1\" class=\"dataframe\">\n",
       "  <thead>\n",
       "    <tr style=\"text-align: right;\">\n",
       "      <th></th>\n",
       "      <th>Game</th>\n",
       "      <th>Developer</th>\n",
       "      <th>Publisher</th>\n",
       "      <th>Release date</th>\n",
       "      <th>Sales</th>\n",
       "      <th>Platform</th>\n",
       "      <th>Genre</th>\n",
       "      <th>Release_year</th>\n",
       "    </tr>\n",
       "  </thead>\n",
       "  <tbody>\n",
       "    <tr>\n",
       "      <th>246</th>\n",
       "      <td>Mario Kart Wii</td>\n",
       "      <td>Nintendo EAD (Group 1)</td>\n",
       "      <td>Nintendo</td>\n",
       "      <td>April 10, 2008</td>\n",
       "      <td>37380000</td>\n",
       "      <td>Wii</td>\n",
       "      <td>Racing</td>\n",
       "      <td>2008</td>\n",
       "    </tr>\n",
       "    <tr>\n",
       "      <th>174</th>\n",
       "      <td>Mario Kart DS</td>\n",
       "      <td>Nintendo EAD (Group 1)</td>\n",
       "      <td>Nintendo</td>\n",
       "      <td>November 14, 2005</td>\n",
       "      <td>23600000</td>\n",
       "      <td>Nintendo DS</td>\n",
       "      <td>Racing</td>\n",
       "      <td>2005</td>\n",
       "    </tr>\n",
       "    <tr>\n",
       "      <th>308</th>\n",
       "      <td>Mario Kart 7</td>\n",
       "      <td>Nintendo EAD, Retro Studios</td>\n",
       "      <td>Nintendo</td>\n",
       "      <td>December 1, 2011</td>\n",
       "      <td>18970000</td>\n",
       "      <td>Nintendo 3DS</td>\n",
       "      <td>Racing</td>\n",
       "      <td>2011</td>\n",
       "    </tr>\n",
       "    <tr>\n",
       "      <th>138</th>\n",
       "      <td>Mario Kart: Double Dash</td>\n",
       "      <td>Nintendo EAD</td>\n",
       "      <td>Nintendo</td>\n",
       "      <td>November 7, 2003</td>\n",
       "      <td>6960000</td>\n",
       "      <td>GameCube</td>\n",
       "      <td>Racing</td>\n",
       "      <td>2003</td>\n",
       "    </tr>\n",
       "    <tr>\n",
       "      <th>155</th>\n",
       "      <td>F-Zero GX</td>\n",
       "      <td>Amusement Vision</td>\n",
       "      <td>Nintendo</td>\n",
       "      <td>July 25, 2003</td>\n",
       "      <td>1500000</td>\n",
       "      <td>GameCube</td>\n",
       "      <td>Racing</td>\n",
       "      <td>2003</td>\n",
       "    </tr>\n",
       "    <tr>\n",
       "      <th>224</th>\n",
       "      <td>Dragon Quest Monsters: Joker</td>\n",
       "      <td>Tose</td>\n",
       "      <td>Square Enix</td>\n",
       "      <td>December 28, 2006</td>\n",
       "      <td>1490000</td>\n",
       "      <td>Nintendo DS</td>\n",
       "      <td>Racing</td>\n",
       "      <td>2006</td>\n",
       "    </tr>\n",
       "    <tr>\n",
       "      <th>160</th>\n",
       "      <td>Kirby Air Ride</td>\n",
       "      <td>HAL Laboratory</td>\n",
       "      <td>Nintendo</td>\n",
       "      <td>July 11, 2003</td>\n",
       "      <td>1350000</td>\n",
       "      <td>GameCube</td>\n",
       "      <td>Racing</td>\n",
       "      <td>2003</td>\n",
       "    </tr>\n",
       "  </tbody>\n",
       "</table>\n",
       "</div>"
      ],
      "text/plain": [
       "                             Game                    Developer    Publisher  \\\n",
       "246               Mario Kart Wii        Nintendo EAD (Group 1)     Nintendo   \n",
       "174                 Mario Kart DS       Nintendo EAD (Group 1)     Nintendo   \n",
       "308                 Mario Kart 7   Nintendo EAD, Retro Studios     Nintendo   \n",
       "138       Mario Kart: Double Dash                 Nintendo EAD     Nintendo   \n",
       "155                     F-Zero GX             Amusement Vision     Nintendo   \n",
       "224  Dragon Quest Monsters: Joker                         Tose  Square Enix   \n",
       "160                Kirby Air Ride               HAL Laboratory     Nintendo   \n",
       "\n",
       "          Release date     Sales      Platform   Genre  Release_year  \n",
       "246     April 10, 2008  37380000           Wii  Racing          2008  \n",
       "174  November 14, 2005  23600000   Nintendo DS  Racing          2005  \n",
       "308   December 1, 2011  18970000  Nintendo 3DS  Racing          2011  \n",
       "138   November 7, 2003   6960000      GameCube  Racing          2003  \n",
       "155      July 25, 2003   1500000      GameCube  Racing          2003  \n",
       "224  December 28, 2006   1490000   Nintendo DS  Racing          2006  \n",
       "160      July 11, 2003   1350000      GameCube  Racing          2003  "
      ]
     },
     "execution_count": 147,
     "metadata": {},
     "output_type": "execute_result"
    }
   ],
   "source": [
    "df_Racing =df_Racing.sort_values(by='Sales',ascending=False)\n",
    "df_Racing"
   ]
  },
  {
   "cell_type": "code",
   "execution_count": 149,
   "id": "c0edfe8a",
   "metadata": {},
   "outputs": [
    {
     "data": {
      "text/plain": [
       "<AxesSubplot:xlabel='Game', ylabel='Sales'>"
      ]
     },
     "execution_count": 149,
     "metadata": {},
     "output_type": "execute_result"
    },
    {
     "data": {
      "image/png": "[encoded data removed]",
      "text/plain": [
       "<Figure size 720x432 with 1 Axes>"
      ]
     },
     "metadata": {
      "needs_background": "light"
     },
     "output_type": "display_data"
    }
   ],
   "source": [
    "plt.figure(figsize=(10,6))\n",
    "plt.xticks(rotation='vertical')\n",
    "sns.barplot(x='Game',y='Sales',data=df_Racing,hue='Sales',palette='Blues',dodge= False)"
   ]
  },
  {
   "cell_type": "markdown",
   "id": "97fec284",
   "metadata": {},
   "source": [
    "'Mario Kart Wii' is the best racing game on nintendo. "
   ]
  },
  {
   "cell_type": "code",
   "execution_count": null,
   "id": "325eb9cf",
   "metadata": {},
   "outputs": [],
   "source": []
  }
 ],
 "metadata": {
  "kernelspec": {
   "display_name": "Python 3 (ipykernel)",
   "language": "python",
   "name": "python3"
  },
  "language_info": {
   "codemirror_mode": {
    "name": "ipython",
    "version": 3
   },
   "file_extension": ".py",
   "mimetype": "text/x-python",
   "name": "python",
   "nbconvert_exporter": "python",
   "pygments_lexer": "ipython3",
   "version": "3.9.7"
  }
 },
 "nbformat": 4,
 "nbformat_minor": 5
}
